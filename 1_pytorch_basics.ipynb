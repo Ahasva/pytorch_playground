{
 "cells": [
  {
   "cell_type": "markdown",
   "id": "4183ff60-8042-49bc-9fe3-7d5c0e77ad82",
   "metadata": {},
   "source": [
    "# HW check"
   ]
  },
  {
   "cell_type": "code",
   "execution_count": null,
   "id": "cace1333-1a05-433f-a6c5-2d1a13ac11eb",
   "metadata": {},
   "outputs": [],
   "source": [
    "# What version of Python do you have?\n",
    "import sys\n",
    "import platform\n",
    "import torch\n",
    "import pandas as pd\n",
    "import numpy as np\n",
    "import matplotlib.pyplot as plt\n",
    "import sklearn as sk\n",
    "\n",
    "has_gpu = torch.cuda.is_available()\n",
    "has_mps = torch.backends.mps.is_built()\n",
    "custom_device = \"mps\" if has_mps else \"cuda\" if torch.cuda.is_available() else \"cpu\"\n",
    "\n",
    "print(f\"Python Platform: {platform.platform()}\")\n",
    "print(f\"PyTorch Version: {torch.__version__}\\n\")\n",
    "print(f\"Python {sys.version}\")\n",
    "print(f\"Pandas {pd.__version__}\")\n",
    "print(f\"Numpy {np.__version__}\")\n",
    "print(f\"Scikit-Learn {sk.__version__}\")\n",
    "print(\"NVIDIA/CUDA GPU is\", \"available\" if has_gpu else \"NOT AVAILABLE\")\n",
    "print(\"MPS (Apple Metal) is\", \"AVAILABLE\" if has_mps else \"NOT AVAILABLE\")\n",
    "\n",
    "print(f\"\\nCustome Device:\\t{custom_device}\")\n",
    "\n",
    "# Option 1 on Mac (with Apple Silicon):\n",
    "#torch.set_default_device(\"cpu\") # <- setting it manually to \"cpu\"\n",
    "\n",
    "# Option 2 on Mac (with Apple Silicon):\n",
    "torch.set_default_device(custom_device)\n",
    "\n",
    "print(f\"Active device:\\t{torch.get_default_device()}\")\n",
    "\n",
    "# Testing\n",
    "\n",
    "print(\"\\nRun test:\")\n",
    "layer = torch.nn.Linear(20,30)\n",
    "print(f\"\\tLayer weights are on device: {layer.weight.device}\")\n",
    "print(f\"\\tLayer creating data on device: {layer(torch.randn(128,20)).device}\")"
   ]
  },
  {
   "cell_type": "markdown",
   "id": "78ea1513-25c3-49f1-93c9-54a559e0c18d",
   "metadata": {},
   "source": [
    "# Basics"
   ]
  },
  {
   "cell_type": "markdown",
   "id": "0d2dfcf8-e23f-437d-b4d3-f990661f81e9",
   "metadata": {},
   "source": [
    "## Introduction to Tensors"
   ]
  },
  {
   "cell_type": "markdown",
   "id": "8c3603a9-174e-43f6-b2ff-37f421de9276",
   "metadata": {},
   "source": [
    "### Creating Tensors"
   ]
  },
  {
   "cell_type": "markdown",
   "id": "08f0f1ac-fdf5-408e-97ec-89dd1a8a7566",
   "metadata": {},
   "source": [
    "#### SCALAR"
   ]
  },
  {
   "cell_type": "code",
   "execution_count": null,
   "id": "443989d5-431a-44ef-ae95-00d00c6de90d",
   "metadata": {},
   "outputs": [],
   "source": [
    "scalar = torch.tensor(7)\n",
    "\n",
    "print(scalar)\n",
    "print(scalar.item()) # get tensor as python int\n",
    "print(scalar.dtype)\n",
    "print(scalar.ndim)\n",
    "print(scalar.shape)"
   ]
  },
  {
   "cell_type": "markdown",
   "id": "9dc82793-2527-4309-839f-6951da742c59",
   "metadata": {},
   "source": [
    "#### VECTOR"
   ]
  },
  {
   "cell_type": "code",
   "execution_count": null,
   "id": "881cc56b-0f56-4013-84e0-af57eec5ceac",
   "metadata": {},
   "outputs": [],
   "source": [
    "vector = torch.tensor([7,8,9])\n",
    "\n",
    "print(vector)\n",
    "print(vector.tolist())\n",
    "print(f\"Type:\\t{vector.dtype}\")\n",
    "print(f\"Dims:\\t{vector.ndim}\")\n",
    "print(f\"Shape:\\t{vector.shape}\")"
   ]
  },
  {
   "cell_type": "markdown",
   "id": "8423ee71-4396-4675-9d40-822be380dfe3",
   "metadata": {},
   "source": []
  },
  {
   "cell_type": "markdown",
   "id": "70012789-c64c-46b7-b52f-e7810eff08c4",
   "metadata": {},
   "source": []
  },
  {
   "cell_type": "markdown",
   "id": "f09a53b7-e275-411a-9bdf-aa6923baf58a",
   "metadata": {},
   "source": [
    "#### MATRIX"
   ]
  },
  {
   "cell_type": "code",
   "execution_count": null,
   "id": "eea1b651-8c45-42a2-ab15-6414fef4fb9b",
   "metadata": {},
   "outputs": [],
   "source": [
    "M = torch.tensor([[7,8],\n",
    "                  [9,10]])\n",
    "\n",
    "print(f\"Type:\\t{M.dtype}\")\n",
    "print(f\"Dims:\\t{M.ndim}\")\n",
    "print(f\"Shape:\\t{M.shape}\")"
   ]
  },
  {
   "cell_type": "markdown",
   "id": "02a38d11-aba8-4c72-98e7-973b13ff5a3e",
   "metadata": {},
   "source": [
    "#### TENSOR"
   ]
  },
  {
   "cell_type": "code",
   "execution_count": null,
   "id": "60218bcb-9ecf-4311-bc07-a7b94ebea6cf",
   "metadata": {},
   "outputs": [],
   "source": [
    "T = torch.tensor([[[1,2,3],\n",
    "                   [4,5,6],\n",
    "                   [7,8,9,]]])\n",
    "\n",
    "print(f\"Type:\\t{T.dtype}\")\n",
    "print(f\"Dims:\\t{T.ndim}\")\n",
    "print(f\"Shape:\\t{T.shape}\")\n",
    "print(f\"Device:\\t{T.device}\")"
   ]
  },
  {
   "cell_type": "markdown",
   "id": "a6272776-77af-4965-b9b7-5124d5bfb183",
   "metadata": {},
   "source": [
    "### Random Tensors"
   ]
  },
  {
   "cell_type": "code",
   "execution_count": null,
   "id": "85ca7215-fed7-48d0-9150-a61a69b2fa0f",
   "metadata": {},
   "outputs": [],
   "source": [
    "# random tensor (num between between 0 and 1) of shape 3,4\n",
    "random_tensor = torch.rand(3,4)\n",
    "print(random_tensor)\n",
    "print(random_tensor.dtype)\n",
    "print(random_tensor.ndim)\n",
    "print(random_tensor.shape)"
   ]
  },
  {
   "cell_type": "code",
   "execution_count": null,
   "id": "22fd4de5-7869-4ca8-9910-25795f9f38b7",
   "metadata": {},
   "outputs": [],
   "source": [
    "random_color_tensor = torch.rand(size=(224,224,3))\n",
    "random_color_tensor.dtype, random_color_tensor.shape, random_color_tensor.size(), random_color_tensor.ndim, "
   ]
  },
  {
   "cell_type": "markdown",
   "id": "15e2c491-82e8-4d1a-a95d-2389f776a3c0",
   "metadata": {},
   "source": [
    "### Zeroes and Ones"
   ]
  },
  {
   "cell_type": "code",
   "execution_count": null,
   "id": "919b8926-cf6e-41be-9cfb-6335522ebe1a",
   "metadata": {},
   "outputs": [],
   "source": [
    "zero = torch.zeros(size=(3,4))\n",
    "zero, zero.dtype, zero.shape, zero.ndim"
   ]
  },
  {
   "cell_type": "code",
   "execution_count": null,
   "id": "74196209-5533-4666-ba8c-4fc02b0c048e",
   "metadata": {},
   "outputs": [],
   "source": [
    "ones = torch.ones(size=(5,5))\n",
    "ones, ones.dtype"
   ]
  },
  {
   "cell_type": "markdown",
   "id": "ad3be875-4dd5-4080-9b82-184d01adc72a",
   "metadata": {},
   "source": [
    "### Creating a Range Tensor & Tensors-Like"
   ]
  },
  {
   "cell_type": "code",
   "execution_count": null,
   "id": "11f618d4-e35f-4e87-9c54-82240188d551",
   "metadata": {},
   "outputs": [],
   "source": [
    "one_to_ten = torch.arange(1,11)\n",
    "one_to_ten, one_to_ten.dtype, one_to_ten.shape, one_to_ten.ndim"
   ]
  },
  {
   "cell_type": "code",
   "execution_count": null,
   "id": "2f83e0d8-0a2e-4523-b0c9-aebbba67b292",
   "metadata": {},
   "outputs": [],
   "source": [
    "ten_zeros = torch.zeros_like(input=one_to_ten)\n",
    "ten_zeros, ten_zeros.dtype, ten_zeros.shape, ten_zeros.ndim"
   ]
  },
  {
   "cell_type": "markdown",
   "id": "0cf15dfd-1e3d-481d-aacc-28f7cdfae90a",
   "metadata": {},
   "source": [
    "### Type conversion"
   ]
  },
  {
   "cell_type": "code",
   "execution_count": null,
   "id": "5226d0a2-cce4-4c2e-842c-e0d07be13cee",
   "metadata": {},
   "outputs": [],
   "source": [
    "float_32_tensor = torch.tensor([3.0,6.0,9.0])\n",
    "float_32_tensor, float_32_tensor.dtype"
   ]
  },
  {
   "cell_type": "code",
   "execution_count": null,
   "id": "89b31a5d-c106-4eeb-aed7-f3c3034860fb",
   "metadata": {},
   "outputs": [],
   "source": [
    "float_16_tensor = float_32_tensor.type(torch.float16)\n",
    "float_16_tensor, float_16_tensor.dtype"
   ]
  },
  {
   "cell_type": "code",
   "execution_count": null,
   "id": "b66bb273-3c63-41f3-ae81-4073dd879ad0",
   "metadata": {},
   "outputs": [],
   "source": [
    "int_32_tensor = torch.tensor([3,6,9],dtype=torch.int32)\n",
    "int_32_tensor"
   ]
  },
  {
   "cell_type": "code",
   "execution_count": null,
   "id": "86327b7c-ffb9-427d-a50d-9ceec2dace53",
   "metadata": {},
   "outputs": [],
   "source": [
    "print(float_32_tensor * int_32_tensor)\n",
    "print((float_32_tensor * int_32_tensor).dtype)"
   ]
  },
  {
   "cell_type": "markdown",
   "id": "4f17f587-2932-4ae7-9317-cb85bd549db5",
   "metadata": {},
   "source": [
    "### Tensor Operations"
   ]
  },
  {
   "cell_type": "markdown",
   "id": "2ec155ef-3b7f-4963-8266-1ab7c7060e98",
   "metadata": {},
   "source": [
    "#### Basic operations"
   ]
  },
  {
   "cell_type": "code",
   "execution_count": null,
   "id": "1eb4d65a-7c2f-4824-b3d5-693df0fb2385",
   "metadata": {},
   "outputs": [],
   "source": [
    " tensor = torch.tensor([1,2,3])"
   ]
  },
  {
   "cell_type": "code",
   "execution_count": null,
   "id": "2bae0d72-4c41-4b0a-8753-5c510eff55c7",
   "metadata": {},
   "outputs": [],
   "source": [
    "print(tensor + 10)\n",
    "print(tensor - 10)\n",
    "print(tensor * 10)\n",
    "print(tensor / 10)"
   ]
  },
  {
   "cell_type": "code",
   "execution_count": null,
   "id": "ddf9dac3-0286-43e3-a693-7ab3bdd76858",
   "metadata": {},
   "outputs": [],
   "source": [
    "print(torch.add(tensor, 10))\n",
    "\n",
    "print(torch.sub(tensor, 10))\n",
    "print(torch.subtract(tensor, 10))\n",
    "\n",
    "print(torch.mul(tensor, 10))\n",
    "print(torch.multiply(tensor,10))\n",
    "\n",
    "print(torch.div(tensor, 10))\n",
    "print(torch.divide(tensor, 10))"
   ]
  },
  {
   "cell_type": "code",
   "execution_count": null,
   "id": "e6940f6c-c840-4076-88df-b47e782e4b57",
   "metadata": {},
   "outputs": [],
   "source": [
    "# multiplying tensors (element-wise)\n",
    "print(tensor * tensor)"
   ]
  },
  {
   "cell_type": "markdown",
   "id": "3a0a8bd1-b4ff-4bfe-b15b-5a57802ca8e7",
   "metadata": {},
   "source": [
    "#### Matrix Multiplications"
   ]
  },
  {
   "cell_type": "code",
   "execution_count": null,
   "id": "34ca46d7-e7ec-46fc-a629-4dc2a3424824",
   "metadata": {},
   "outputs": [],
   "source": [
    "print(torch.matmul(tensor, tensor))\n",
    "print(torch.dot(tensor,tensor)) # `.dot()` works only, if the torch tensor is a vector (1D)\n",
    "print(tensor @ tensor)"
   ]
  },
  {
   "cell_type": "code",
   "execution_count": null,
   "id": "621f321d-b53c-4d72-a6f1-6d8b03a77e77",
   "metadata": {},
   "outputs": [],
   "source": [
    "A = torch.tensor([[1,2,3],\n",
    "                  [4,5,6]])\n",
    "B = A"
   ]
  },
  {
   "cell_type": "code",
   "execution_count": null,
   "id": "8867496f-57c1-46f8-beef-23a64d619150",
   "metadata": {},
   "outputs": [],
   "source": [
    "print(torch.matmul(A, B.T))\n",
    "print(torch.mm(A, B.T)) # `.mm()` works only, if the torch tensor is a matrix (2D)"
   ]
  },
  {
   "cell_type": "markdown",
   "id": "66c8c828-1e01-4063-a0e4-34111463f368",
   "metadata": {},
   "source": [
    "###  Tensor aggregration"
   ]
  },
  {
   "cell_type": "code",
   "execution_count": null,
   "id": "0293c426-df8d-4b9a-a20f-5274d7565eb5",
   "metadata": {},
   "outputs": [],
   "source": [
    "x = torch.arange(0,100,10)\n",
    "x, x.dtype, x.shape, x.ndim"
   ]
  },
  {
   "cell_type": "markdown",
   "id": "0e61e3e0-5710-4244-b0bf-55292240a30b",
   "metadata": {},
   "source": [
    "#### min & max"
   ]
  },
  {
   "cell_type": "code",
   "execution_count": null,
   "id": "ef8cdaa6-58be-4cda-8b52-87f6967d6ff9",
   "metadata": {},
   "outputs": [],
   "source": [
    "print(f\"Min values\\n\\toption 1: {torch.min(x)}\\n\\toption 2: {x.min()}\")\n",
    "print(f\"Max values\\n\\toption 1: {torch.max(x)}\\n\\toption 2: {x.max()}\")"
   ]
  },
  {
   "cell_type": "markdown",
   "id": "ad7b55e1-8645-443b-b4a7-7cbea8a66414",
   "metadata": {},
   "source": [
    "#### mean"
   ]
  },
  {
   "cell_type": "code",
   "execution_count": null,
   "id": "220a5174-92f5-407c-86bb-fb9acc97554d",
   "metadata": {},
   "outputs": [],
   "source": [
    "# in order to calculate the mean value, values need to be converted to float or complex dtypes first\n",
    "torch.mean(x.type(torch.float32)), x.type(torch.float32).mean() "
   ]
  },
  {
   "cell_type": "markdown",
   "id": "51ac662b-ef73-4cad-ab47-4494f8afc26e",
   "metadata": {},
   "source": [
    "#### Positional minimum (argmin) & positional maximum (argmax)"
   ]
  },
  {
   "cell_type": "code",
   "execution_count": null,
   "id": "64507c4b-1109-4bfc-94af-d98845080b69",
   "metadata": {},
   "outputs": [],
   "source": [
    "x.argmin(), x.argmax() # both functions return the index position"
   ]
  },
  {
   "cell_type": "markdown",
   "id": "e26f3151-2862-4b0d-a0fe-d3ff62cdfcc0",
   "metadata": {},
   "source": [
    "### Reshaping, stacking, squeezing, unsqueezing, permuting tensors"
   ]
  },
  {
   "cell_type": "code",
   "execution_count": null,
   "id": "78595f43-e91d-4ea9-8625-386e2f370353",
   "metadata": {},
   "outputs": [],
   "source": [
    "a = torch.arange(1.,10.)\n",
    "a, a.shape"
   ]
  },
  {
   "cell_type": "markdown",
   "id": "e60eb60e-9e7b-4bd6-93e4-bf5ccfab07cd",
   "metadata": {},
   "source": [
    "#### Reshape"
   ]
  },
  {
   "cell_type": "code",
   "execution_count": null,
   "id": "3608dc0f-563f-4ba2-8bb4-2c7173e1cceb",
   "metadata": {},
   "outputs": [],
   "source": [
    "a_reshaped = a.reshape(1,9)\n",
    "a_reshaped, a_reshaped.shape"
   ]
  },
  {
   "cell_type": "markdown",
   "id": "ccb00ff3-d6bf-4e00-9237-5e641fbc5e5f",
   "metadata": {},
   "source": [
    "#### View"
   ]
  },
  {
   "cell_type": "code",
   "execution_count": null,
   "id": "c09ca501-e830-4acf-9f6c-0ecc05e3f19c",
   "metadata": {},
   "outputs": [],
   "source": [
    "# changing values of the view of a tensor, changes also the viewed tensor, \n",
    "# since both share the same place in memory \n",
    "a_view = a.view(1,9) \n",
    "a_view, a_view.shape "
   ]
  },
  {
   "cell_type": "code",
   "execution_count": null,
   "id": "6f5b6cd4-5e6d-4580-9464-b437e0780d90",
   "metadata": {},
   "outputs": [],
   "source": [
    "a_view[:,0] = 100 # alternatively use `a_view[0][0]`\n",
    "\n",
    "print(a)\n",
    "print(a_view)"
   ]
  },
  {
   "cell_type": "markdown",
   "id": "aa404065-02f2-4377-b490-4a4fdba0ffc8",
   "metadata": {},
   "source": [
    "#### Stack"
   ]
  },
  {
   "cell_type": "code",
   "execution_count": null,
   "id": "81f21a0e-0151-45cc-9da0-ce5ebcc10da7",
   "metadata": {},
   "outputs": [],
   "source": [
    "a_stacked = torch.stack([a,a,a], dim=0)\n",
    "a_stacked"
   ]
  },
  {
   "cell_type": "code",
   "execution_count": null,
   "id": "58cdbf5a-4b93-4b15-9572-cbfb3b1f1255",
   "metadata": {},
   "outputs": [],
   "source": [
    "a_stacked = torch.stack([a,a,a], dim=1)\n",
    "a_stacked"
   ]
  },
  {
   "cell_type": "code",
   "execution_count": null,
   "id": "c874f201-6026-4903-978b-b14c1583a3d4",
   "metadata": {},
   "outputs": [],
   "source": [
    "a_hstack = torch.hstack((a,a)) # column wise\n",
    "a_hstack"
   ]
  },
  {
   "cell_type": "code",
   "execution_count": null,
   "id": "3f3abc58-386d-491f-93ca-836d800e6d33",
   "metadata": {},
   "outputs": [],
   "source": [
    "b = torch.tensor([[100.], [2.], [3.], [4.], [5.], [6.], [7.], [8.], [9.]])\n",
    "b_hstack = torch.hstack((b,b)) # column wise\n",
    "b_hstack"
   ]
  },
  {
   "cell_type": "code",
   "execution_count": null,
   "id": "49309894-d343-462b-8629-71487edc7a30",
   "metadata": {},
   "outputs": [],
   "source": [
    "a_vstack = torch.vstack((a,a)) # row wise\n",
    "a_vstack"
   ]
  },
  {
   "cell_type": "code",
   "execution_count": null,
   "id": "69577670-fc04-43a4-bf79-e88077f7fd1e",
   "metadata": {},
   "outputs": [],
   "source": [
    "a_squeeze = a_reshaped.squeeze()\n",
    "a_squeeze, a_squeeze.shape, a_reshaped, a_reshaped.shape"
   ]
  },
  {
   "cell_type": "code",
   "execution_count": null,
   "id": "cef72684-aead-4068-a2d7-040d50e9af7e",
   "metadata": {},
   "outputs": [],
   "source": [
    "a_unsqueezed = a_squeeze.unsqueeze(dim=0)\n",
    "a_unsqueezed, a_unsqueezed.shape"
   ]
  },
  {
   "cell_type": "code",
   "execution_count": null,
   "id": "b8c3b0d4-154a-42e7-bb86-dc924a50db81",
   "metadata": {},
   "outputs": [],
   "source": [
    "color_tensor = torch.rand(size=(224,224,3))\n",
    "color_tensor_permuted = color_tensor.permute(2,0,1) # permuting is giving a view on the original tensor\n",
    "\n",
    "print(f\"Original shape:\\t\\t{color_tensor.shape}\")\n",
    "print(f\"Permuted shape:\\t\\t{color_tensor_permuted.shape}\")"
   ]
  },
  {
   "cell_type": "markdown",
   "id": "b001776a-092f-4ad4-8d05-f1d053649826",
   "metadata": {},
   "source": [
    "### Indexing"
   ]
  },
  {
   "cell_type": "code",
   "execution_count": null,
   "id": "5bff4ef1-4d1d-4443-9564-9f66881ccaa9",
   "metadata": {},
   "outputs": [],
   "source": [
    "a = torch.arange(1,10).reshape(1,3,3)\n",
    "a, a.shape"
   ]
  },
  {
   "cell_type": "code",
   "execution_count": null,
   "id": "788b6e3a-a64b-461d-aa8a-c70d68e004a5",
   "metadata": {},
   "outputs": [],
   "source": [
    "print(a[0])\n",
    "print(a[:])"
   ]
  },
  {
   "cell_type": "code",
   "execution_count": null,
   "id": "a7e6897c-8d87-48b7-8e6f-b857216cce78",
   "metadata": {},
   "outputs": [],
   "source": [
    "print(a[0][0])\n",
    "print(a[0,0])\n",
    "print(a[:,0])"
   ]
  },
  {
   "cell_type": "code",
   "execution_count": null,
   "id": "b8f198be-d1b7-4585-97cd-fec70c60d492",
   "metadata": {},
   "outputs": [],
   "source": [
    "print(a[0][0][0])\n",
    "print(a[0,0,0])\n",
    "print(a[:,0,0])"
   ]
  },
  {
   "cell_type": "code",
   "execution_count": null,
   "id": "341c8a3d-e591-446c-b033-98d71fd18c38",
   "metadata": {},
   "outputs": [],
   "source": [
    "a[:, 0]"
   ]
  },
  {
   "cell_type": "markdown",
   "id": "871c8f08-10b6-4ed9-9713-7f9d361901d4",
   "metadata": {},
   "source": [
    "### NumPy & PyTorch"
   ]
  },
  {
   "cell_type": "markdown",
   "id": "3a8ab0c5-a973-4394-9603-022e37fa4aad",
   "metadata": {},
   "source": [
    "#### Converting NumPy array to PyTorch tensor"
   ]
  },
  {
   "cell_type": "code",
   "execution_count": null,
   "id": "5f3c3733-092b-4fd6-acd1-fddc0f8dee40",
   "metadata": {},
   "outputs": [],
   "source": [
    "# PyTorch default data type is float32, but NumPy's is float 64\n",
    "# The original data type will prevail\n",
    "\n",
    "array = np.arange(1.0, 8.0)\n",
    "tensor = torch.from_numpy(array) \n",
    "array, tensor"
   ]
  },
  {
   "cell_type": "markdown",
   "id": "14625e02-401d-4748-9a81-caadea81defb",
   "metadata": {},
   "source": [
    "#### Converting PyTorch tensor to NumPy array"
   ]
  },
  {
   "cell_type": "code",
   "execution_count": null,
   "id": "1cc68764-a90f-49b5-a856-e5b1ce604c00",
   "metadata": {},
   "outputs": [],
   "source": [
    "tensor = torch.ones(7)\n",
    "\n",
    "numpy_array = tensor.numpy()\n",
    "print(tensor, tensor.dtype, type(tensor))\n",
    "\n",
    "print(numpy_array, numpy_array.dtype, type(numpy_array))"
   ]
  },
  {
   "cell_type": "markdown",
   "id": "1fd8c84e-0d1c-4a32-bcb0-799cabbfb180",
   "metadata": {},
   "source": [
    "### Randomness"
   ]
  },
  {
   "cell_type": "code",
   "execution_count": null,
   "id": "c097a44a-95ea-41ff-8d3b-e7e46d81bd63",
   "metadata": {},
   "outputs": [],
   "source": [
    "random_tensor_a = torch.rand(3,3)\n",
    "\n",
    "random_tensor_b = torch.rand(3,3)\n",
    "\n",
    "print(random_tensor_a)\n",
    "print(random_tensor_b)\n",
    "print(random_tensor_a == random_tensor_b)"
   ]
  },
  {
   "cell_type": "code",
   "execution_count": null,
   "id": "c8311e38-23c5-4615-8a3f-8f68dcf7182b",
   "metadata": {},
   "outputs": [],
   "source": [
    "RANDOM_SEED = 42\n",
    "\n",
    "torch.manual_seed(RANDOM_SEED)\n",
    "random_tensor_a = torch.rand(3,3)\n",
    "\n",
    "torch.manual_seed(RANDOM_SEED)\n",
    "random_tensor_b = torch.rand(3,3)\n",
    "\n",
    "print(random_tensor_a)\n",
    "print(random_tensor_b)\n",
    "print(random_tensor_a == random_tensor_b)"
   ]
  },
  {
   "cell_type": "code",
   "execution_count": null,
   "id": "b74b7b68-e712-45d8-a2c4-9420ab719267",
   "metadata": {},
   "outputs": [],
   "source": []
  }
 ],
 "metadata": {
  "kernelspec": {
   "display_name": "Python 3.11 (torch)",
   "language": "python",
   "name": "pytorch"
  },
  "language_info": {
   "codemirror_mode": {
    "name": "ipython",
    "version": 3
   },
   "file_extension": ".py",
   "mimetype": "text/x-python",
   "name": "python",
   "nbconvert_exporter": "python",
   "pygments_lexer": "ipython3",
   "version": "3.9.23"
  }
 },
 "nbformat": 4,
 "nbformat_minor": 5
}
