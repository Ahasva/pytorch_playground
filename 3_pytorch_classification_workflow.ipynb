{
 "cells": [
  {
   "cell_type": "markdown",
   "id": "0c57431a-fa82-4346-8041-508b38f52e3b",
   "metadata": {},
   "source": [
    "# Setup"
   ]
  },
  {
   "cell_type": "code",
   "execution_count": null,
   "id": "07db0939-57f3-484a-96f9-58df87d7e3bd",
   "metadata": {},
   "outputs": [],
   "source": [
    "import sys\n",
    "import platform\n",
    "\n",
    "import pandas as pd\n",
    "import numpy as np\n",
    "import matplotlib.pyplot as plt\n",
    "import sklearn as sk\n",
    "import torch\n",
    "\n",
    "has_gpu = torch.cuda.is_available()\n",
    "has_mps = torch.backends.mps.is_built()\n",
    "custom_device = \"mps\" if has_mps else \"cuda\" if torch.cuda.is_available() else \"cpu\"\n",
    "\n",
    "print(f\"Python Platform: {platform.platform()}\")\n",
    "print(f\"PyTorch Version: {torch.__version__}\\n\")\n",
    "print(f\"Python {sys.version}\")\n",
    "print(f\"Pandas {pd.__version__}\")\n",
    "print(f\"Numpy {np.__version__}\")\n",
    "print(f\"Scikit-Learn {sk.__version__}\")\n",
    "print(\"NVIDIA/CUDA GPU is\", \"available\" if has_gpu else \"NOT AVAILABLE\")\n",
    "print(\"MPS (Apple Metal) is\", \"AVAILABLE\" if has_mps else \"NOT AVAILABLE\")\n",
    "\n",
    "print(f\"\\nCustome Device:\\t{custom_device}\")\n",
    "\n",
    "# Option 1 on Mac (with Apple Silicon) is to use the CPU:\n",
    "#torch.set_default_device(\"cpu\") # <- setting it manually to \"cpu\"\n",
    "\n",
    "# Option 2 on Mac (with Apple Silicon) is to use MPS:\n",
    "torch.set_default_device(custom_device)\n",
    "\n",
    "print(f\"Active device:\\t{torch.get_default_device()}\")\n",
    "\n",
    "# Testing\n",
    "\n",
    "print(\"\\nRun test:\")\n",
    "layer = torch.nn.Linear(20,30)\n",
    "print(f\"\\tLayer weights are on device: {layer.weight.device}\")\n",
    "print(f\"\\tLayer creating data on device: {layer(torch.randn(128,20)).device}\")"
   ]
  },
  {
   "cell_type": "markdown",
   "id": "b6a85c98-1e1e-4813-9519-f3f77c910ce9",
   "metadata": {},
   "source": [
    "# Classification"
   ]
  },
  {
   "cell_type": "code",
   "execution_count": null,
   "id": "8931ba82-ebad-444d-af95-cec1c95d25e2",
   "metadata": {},
   "outputs": [],
   "source": []
  }
 ],
 "metadata": {
  "kernelspec": {
   "display_name": "Python 3.11 (torch)",
   "language": "python",
   "name": "pytorch"
  },
  "language_info": {
   "codemirror_mode": {
    "name": "ipython",
    "version": 3
   },
   "file_extension": ".py",
   "mimetype": "text/x-python",
   "name": "python",
   "nbconvert_exporter": "python",
   "pygments_lexer": "ipython3",
   "version": "3.9.23"
  }
 },
 "nbformat": 4,
 "nbformat_minor": 5
}
