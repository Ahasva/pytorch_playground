{
 "cells": [
  {
   "cell_type": "markdown",
   "id": "43e5f7ba-bf52-46b0-a569-ef4f2c533534",
   "metadata": {},
   "source": [
    "# Setup / Preparation"
   ]
  },
  {
   "cell_type": "code",
   "execution_count": null,
   "id": "54ce78e6-5ba1-4167-9adc-ef096195cb41",
   "metadata": {},
   "outputs": [],
   "source": [
    "import sys\n",
    "import platform\n",
    "\n",
    "import pandas as pd\n",
    "import numpy as np\n",
    "import matplotlib.pyplot as plt\n",
    "import sklearn as sk\n",
    "import torch\n",
    "\n",
    "has_gpu = torch.cuda.is_available()\n",
    "has_mps = torch.backends.mps.is_built()\n",
    "custom_device = \"mps\" if has_mps else \"cuda\" if torch.cuda.is_available() else \"cpu\"\n",
    "\n",
    "print(f\"Python Platform: {platform.platform()}\")\n",
    "print(f\"PyTorch Version: {torch.__version__}\\n\")\n",
    "print(f\"Python {sys.version}\")\n",
    "print(f\"Pandas {pd.__version__}\")\n",
    "print(f\"Numpy {np.__version__}\")\n",
    "print(f\"Scikit-Learn {sk.__version__}\")\n",
    "print(\"NVIDIA/CUDA GPU is\", \"available\" if has_gpu else \"NOT AVAILABLE\")\n",
    "print(\"MPS (Apple Metal) is\", \"AVAILABLE\" if has_mps else \"NOT AVAILABLE\")\n",
    "\n",
    "print(f\"\\nCustome Device:\\t{custom_device}\")\n",
    "\n",
    "# Option 1 on Mac (with Apple Silicon) is to use the CPU:\n",
    "#torch.set_default_device(\"cpu\") # <- setting it manually to \"cpu\"\n",
    "\n",
    "# Option 2 on Mac (with Apple Silicon) is to use MPS:\n",
    "torch.set_default_device(custom_device)\n",
    "\n",
    "print(f\"Active device:\\t{torch.get_default_device()}\")\n",
    "\n",
    "# Testing\n",
    "\n",
    "print(\"\\nRun test:\")\n",
    "layer = torch.nn.Linear(20,30)\n",
    "print(f\"\\tLayer weights are on device: {layer.weight.device}\")\n",
    "print(f\"\\tLayer creating data on device: {layer(torch.randn(128,20)).device}\")"
   ]
  },
  {
   "cell_type": "markdown",
   "id": "8e6196ab-42ef-4741-9850-c063defbe23e",
   "metadata": {},
   "source": [
    "# Linear Regression"
   ]
  },
  {
   "cell_type": "markdown",
   "id": "526c2f32-086e-4d0e-bc88-e55b45735fa7",
   "metadata": {},
   "source": [
    "## Data (preparing and loading)"
   ]
  },
  {
   "cell_type": "code",
   "execution_count": null,
   "id": "be555302-5a19-460e-a4ba-0c8faa921ade",
   "metadata": {},
   "outputs": [],
   "source": [
    "w = 0.7\n",
    "b = 0.3\n",
    "\n",
    "start = 0\n",
    "end = 1\n",
    "step = 0.02\n",
    "X = torch.arange(start, end, step).unsqueeze(dim=1) # adds an extra dimension to the dataset\n",
    "y = w * X + b\n",
    "\n",
    "X[:5], y[:5]"
   ]
  },
  {
   "cell_type": "markdown",
   "id": "1a4a998a-2c12-42ee-b32d-3f52ae9f10f6",
   "metadata": {},
   "source": [
    "## Splitting data (train, test)"
   ]
  },
  {
   "cell_type": "code",
   "execution_count": null,
   "id": "7ffcf9a0-19d1-46a9-b977-56bf279f95f7",
   "metadata": {},
   "outputs": [],
   "source": [
    "train_split = int(0.8 * len(X))\n",
    "X_train, y_train = X[:train_split], y[:train_split]\n",
    "X_test, y_test = X[train_split:], y[train_split:]\n",
    "\n",
    "print(\n",
    "    f\"Num of TRAINING features:\\t{len(X_train)}\\\n",
    "    \\nNum of TRAINING labels:\\t\\t{len(y_train)}\\\n",
    "    \\nNum of TESTING features:\\t{len(X_test)}\\\n",
    "    \\nNum of TESTING labels:\\t\\t{len(y_test)}\"\n",
    ")"
   ]
  },
  {
   "cell_type": "markdown",
   "id": "a0bf6174-4eaa-4aca-b521-f8e484df6f31",
   "metadata": {},
   "source": [
    "## Visualize data"
   ]
  },
  {
   "cell_type": "code",
   "execution_count": null,
   "id": "414afe54-450f-44ad-b0e1-3d792f1d6c45",
   "metadata": {},
   "outputs": [],
   "source": [
    "def plot_predictions(train_data=X_train,\n",
    "                     train_labels=y_train,\n",
    "                     test_data=X_test,\n",
    "                     test_labels=y_test,\n",
    "                     predictions=None):\n",
    "    \"\"\"\n",
    "    Plots training data, test data and compares predictions\n",
    "    \"\"\"\n",
    "    to_np = lambda x: x.detach().cpu().numpy() if torch.is_tensor(x) else np.asarray(x)\n",
    "    plt.figure(figsize=(5,3))\n",
    "\n",
    "    # Plot training data in blue\n",
    "    plt.scatter(to_np(train_data), to_np(train_labels), c=\"blue\", s=4, label=\"Training data\")\n",
    "\n",
    "    #Plot test data in green\n",
    "    plt.scatter(to_np(test_data), to_np(test_labels), c=\"green\", s=4, label=\"Testing data\")\n",
    "\n",
    "    # Predictions\n",
    "    if predictions is not None:\n",
    "        plt.scatter(to_np(test_data), to_np(predictions), c=\"red\", s=4, label=\"Predictions\")\n",
    "    plt.title(\"PREDICTIONS\")\n",
    "    plt.legend(prop={\"size\":8});"
   ]
  },
  {
   "cell_type": "code",
   "execution_count": null,
   "id": "4a8e253e-035d-49a7-97e0-ac250fc6930a",
   "metadata": {},
   "outputs": [],
   "source": [
    "plot_predictions();"
   ]
  },
  {
   "cell_type": "markdown",
   "id": "3ea20ec0-d101-42e8-8e33-523997f7ff9d",
   "metadata": {},
   "source": [
    "## Build a Linear Regression model\n",
    "\n",
    "(An alternative approach is presented to the end of this notebook.)"
   ]
  },
  {
   "cell_type": "code",
   "execution_count": null,
   "id": "9139ef77-10d9-4506-aaf8-2fa75f1f305f",
   "metadata": {},
   "outputs": [],
   "source": [
    "class LinearRegressionModel(torch.nn.Module):\n",
    "    \"\"\"\n",
    "    Class creates linear regresion models based torch.nn.Module from PyTorch.\n",
    "    Params are set manually.\n",
    "    \"\"\"\n",
    "    def __init__(self):\n",
    "        super().__init__()\n",
    "\n",
    "        # Initialization of model parameters used in various computations;\n",
    "        # init with random values (= 1)\n",
    "        # gradients will be tracked with .autograd and gradient descent\n",
    "        # 32 bits float\n",
    "        self.weights = torch.nn.Parameter(\n",
    "            torch.randn(\n",
    "                1,\n",
    "                requires_grad=True,\n",
    "                dtype=torch.float\n",
    "            )\n",
    "        )\n",
    "        self.bias = torch.nn.Parameter(\n",
    "            torch.randn(\n",
    "                1,\n",
    "                requires_grad=True,\n",
    "                dtype=torch.float\n",
    "            )\n",
    "        )\n",
    "\n",
    "    # Forward Propagation: method with x of type torch tensor for forward computation of model\n",
    "    def forward(self, x: torch.Tensor) -> torch.Tensor:\n",
    "        # returns result of linear regression function\n",
    "        return self.weights * x + self.bias"
   ]
  },
  {
   "cell_type": "code",
   "execution_count": null,
   "id": "335ae6c6-cebb-47b0-9603-6efb3bcfa712",
   "metadata": {},
   "outputs": [],
   "source": [
    "# random seed\n",
    "torch.manual_seed(42)\n",
    "\n",
    "# instance of LinearRegressionModel class\n",
    "model_0 = LinearRegressionModel()\n",
    "\n",
    "params = list(model_0.parameters())\n",
    "state = model_0.state_dict()\n",
    "\n",
    "#print(params)\n",
    "print(state)\n",
    "\n",
    "for key, value in state.items():\n",
    "    print(f\"{key}:\\n\\t{value[0]}\")"
   ]
  },
  {
   "cell_type": "markdown",
   "id": "195a254e-b4e2-4441-af34-4db445f45e19",
   "metadata": {},
   "source": [
    "## Making Predictions"
   ]
  },
  {
   "cell_type": "code",
   "execution_count": null,
   "id": "18890453-ce31-46b2-a6e3-b058b99a4185",
   "metadata": {},
   "outputs": [],
   "source": [
    "with torch.inference_mode(): # similar, but old-fashioned torch.no_grad()\n",
    "    y_preds = model_0(X_test)"
   ]
  },
  {
   "cell_type": "code",
   "execution_count": null,
   "id": "243c30ca-87af-4a97-bfa9-bdc110237793",
   "metadata": {},
   "outputs": [],
   "source": [
    "print(f\"Predictions:\\n\\t{y_preds[:5]}\")\n",
    "print(f\"Correct values:\\n\\t{y_test[:5]}\")"
   ]
  },
  {
   "cell_type": "code",
   "execution_count": null,
   "id": "6bc95bc1-2954-46e1-bc82-bdf8fd0866b9",
   "metadata": {},
   "outputs": [],
   "source": [
    "plot_predictions(predictions=y_preds)"
   ]
  },
  {
   "cell_type": "markdown",
   "id": "355d9af2-413e-42f5-ade7-b8cac12e3f51",
   "metadata": {},
   "source": [
    "## Loss Function\n",
    "\n",
    "Official PyTorch Documentation\n",
    "* [Loss functions overview](https://docs.pytorch.org/docs/stable/nn.html#loss-functions)\n",
    "* [Optimizer overview](https://docs.pytorch.org/docs/stable/optim.html)"
   ]
  },
  {
   "cell_type": "code",
   "execution_count": null,
   "id": "5fa935cf-a930-4d02-b7e0-deb57669a740",
   "metadata": {},
   "outputs": [],
   "source": [
    "# setting up loss function (L1 = MSE)\n",
    "loss_function = torch.nn.L1Loss()\n",
    "\n",
    "# setting up optimizer: default learning rate is 0.001\n",
    "optimizer = torch.optim.SGD(\n",
    "    params=model_0.parameters(),\n",
    "    lr=0.01\n",
    ") "
   ]
  },
  {
   "cell_type": "markdown",
   "id": "18f1eacc-4cae-4eef-91e1-525da03763a2",
   "metadata": {},
   "source": [
    "## Training Loops"
   ]
  },
  {
   "cell_type": "code",
   "execution_count": null,
   "id": "6430dc17-599b-4b99-85af-dba98a3fd825",
   "metadata": {},
   "outputs": [],
   "source": [
    "epochs = 600\n",
    "\n",
    "# Value tracking\n",
    "epoch_count = []\n",
    "loss_values = []\n",
    "test_loss_values = []\n",
    "\n",
    "for epoch in range(epochs):\n",
    "    # flips model into training mode, which changes the behavior of certain layers\n",
    "    # (like dropout layers and BatchNorm)\n",
    "    model_0.train() \n",
    "\n",
    "    # I) Forward Propagation (compute model predictions on training data)\n",
    "    y_preds = model_0(X_train)\n",
    "\n",
    "    # II) Loss Calculation (compute difference between predictions and targets)\n",
    "    loss = loss_function(y_preds, y_train)\n",
    "\n",
    "    # III) Optimization (reset gradients from previous iteration)\n",
    "    optimizer.zero_grad()\n",
    "\n",
    "    # IV) Backpropagation (compute gradients of loss with respect to weights)\n",
    "    loss.backward()\n",
    "\n",
    "    # V) Gradient Descent (update model weights using computed gradients)\n",
    "    optimizer.step()\n",
    "\n",
    "    # VI) Testing\n",
    "    model_0.eval()\n",
    "    with torch.inference_mode():\n",
    "        # 1) Forward Propagation in Inference Mode\n",
    "        test_pred = model_0(X_test)\n",
    "\n",
    "        # 2) Loss Calculation of Test Data\n",
    "        test_loss = loss_function(test_pred, y_test)\n",
    "\n",
    "    if (epoch + 1) % (epochs / 10) == 0:\n",
    "        epoch_count.append(epoch)\n",
    "        loss_values.append(loss)\n",
    "        test_loss_values.append(test_loss)\n",
    "        print(f\"Epoch {epoch+1}/{epochs} | Loss: {loss.item():.4f} | Test Loss: {test_loss.item():.4f}\")\n",
    "\n",
    "# VII) state_dict() of model\n",
    "state = model_0.state_dict()\n",
    "print(\"\\nstate_dict()\")\n",
    "for key, value in state.items():\n",
    "    print(f\"\\t{key}:\\n\\t\\t{value[0]:.4f}\")"
   ]
  },
  {
   "cell_type": "code",
   "execution_count": null,
   "id": "b10e2fea-e65f-4be9-a716-d03bf09c3893",
   "metadata": {},
   "outputs": [],
   "source": [
    "y_preds_new = model_0(X_test)"
   ]
  },
  {
   "cell_type": "code",
   "execution_count": null,
   "id": "604df066-91a2-44f3-b4bc-36c5e77dc2cb",
   "metadata": {},
   "outputs": [],
   "source": [
    "plot_predictions(predictions=y_preds_new)"
   ]
  },
  {
   "cell_type": "code",
   "execution_count": null,
   "id": "a223d152-7653-4c17-92da-f7a8f3ae6c18",
   "metadata": {},
   "outputs": [],
   "source": [
    "train_losses = [\n",
    "    lv.detach().cpu().item() if torch.is_tensor(lv) else float(lv)\n",
    "    for lv in loss_values\n",
    "]\n",
    "test_losses = [\n",
    "    tv.detach().cpu().item() if torch.is_tensor(tv) else float(tv)\n",
    "    for tv in test_loss_values\n",
    "]\n",
    "plt.figure(figsize=(5,3))\n",
    "plt.plot(epoch_count, train_losses, label=\"Train Loss\")\n",
    "plt.plot(epoch_count, test_losses,  label=\"Test Loss\")\n",
    "plt.title(\"TRAINING & TEST LOSS CURVES\")\n",
    "plt.xlabel(\"EPOCHS\")\n",
    "plt.ylabel(\"LOSS\")\n",
    "plt.legend(prop={\"size\":8})\n",
    "plt.show()"
   ]
  },
  {
   "cell_type": "markdown",
   "id": "a5a52962-af3f-4926-95cb-d8651cdcd2ac",
   "metadata": {},
   "source": [
    "## Saving Model"
   ]
  },
  {
   "cell_type": "code",
   "execution_count": null,
   "id": "d39138d2-d5c8-465a-8f4f-5b659a347993",
   "metadata": {},
   "outputs": [],
   "source": [
    "from pathlib import Path\n",
    "\n",
    "MODEL_PATH = Path(\"models\")\n",
    "MODEL_PATH.mkdir(parents=True, exist_ok=True)\n",
    "\n",
    "MODEL_NAME = \"01_pytorch_workflow_model_0.pth\"\n",
    "MODEL_SAVE_PATH = MODEL_PATH / MODEL_NAME\n",
    "\n",
    "torch.save(obj=model_0.state_dict(),f=MODEL_SAVE_PATH)"
   ]
  },
  {
   "cell_type": "code",
   "execution_count": null,
   "id": "39ea56cc-7d0a-4a6a-bff3-d57fdff0d416",
   "metadata": {},
   "outputs": [],
   "source": [
    "!ls -l models/"
   ]
  },
  {
   "cell_type": "markdown",
   "id": "435f8b0f-9d37-4293-92e9-153b87d35baf",
   "metadata": {},
   "source": [
    "## Loading Model"
   ]
  },
  {
   "cell_type": "code",
   "execution_count": null,
   "id": "a277c1c4-d93f-4cc7-acea-8204773b4993",
   "metadata": {},
   "outputs": [],
   "source": [
    "# What to expect after loading original model\n",
    "model_0.state_dict()"
   ]
  },
  {
   "cell_type": "code",
   "execution_count": null,
   "id": "b90e48ff-1f6b-458c-bb08-7ce7f4d0f90e",
   "metadata": {},
   "outputs": [],
   "source": [
    "# Instantiation of model class to load saved state_dict\n",
    "loaded_model_0 = LinearRegressionModel()\n",
    "\n",
    "# Loading of state_dict (updates instance with updated params)\n",
    "loaded_model_0.load_state_dict(\n",
    "    torch.load(f=MODEL_SAVE_PATH)\n",
    ")"
   ]
  },
  {
   "cell_type": "code",
   "execution_count": null,
   "id": "afbded54-f011-4d09-a8de-a9706edbcd05",
   "metadata": {},
   "outputs": [],
   "source": [
    "# Checking state_dict values of loaded model\n",
    "loaded_model_0.state_dict()"
   ]
  },
  {
   "cell_type": "code",
   "execution_count": null,
   "id": "7c5b8307-866c-4187-bb43-350a408bf403",
   "metadata": {},
   "outputs": [],
   "source": [
    "# Comparing loaded model with original model\n",
    "loaded_model_0.eval()\n",
    "with torch.inference_mode():\n",
    "    loaded_model_preds = loaded_model_0(X_test)\n",
    "\n",
    "model_0.eval()\n",
    "with torch.inference_mode():\n",
    "    y_preds = model_0(X_test)\n",
    "\n",
    "print(y_preds == loaded_model_preds)"
   ]
  },
  {
   "cell_type": "markdown",
   "id": "6209238d-8f99-4af6-abec-7554c75c636c",
   "metadata": {},
   "source": [
    "# Extra"
   ]
  },
  {
   "cell_type": "markdown",
   "id": "ab99cb81-bec4-480b-ab45-19de5105dde5",
   "metadata": {},
   "source": [
    "## Alternative class structure\n",
    "\n",
    "(Compare to LinearRegressionModel class above)"
   ]
  },
  {
   "cell_type": "code",
   "execution_count": null,
   "id": "59fc2e27-58d6-4ee7-9198-756e7d29dd85",
   "metadata": {},
   "outputs": [],
   "source": [
    "class LinearRegressionModelV2(torch.nn.Module):\n",
    "    def __init__(self):\n",
    "        super().__init__()\n",
    "        # With torch.nn.Linear() model params are created; the Linear class applies a linear transformation to the incoming data\n",
    "        self.linear_layer = torch.nn.Linear(in_features=1,out_features=1)\n",
    "\n",
    "    def forward(self, x: torch.Tensor) -> torch.Tensor:\n",
    "        return self.linear_layer(x)"
   ]
  },
  {
   "cell_type": "markdown",
   "id": "2cfdb273-d305-4cd5-9a4c-6ef345ed43e3",
   "metadata": {},
   "source": [
    "## Init of alternative class"
   ]
  },
  {
   "cell_type": "code",
   "execution_count": null,
   "id": "0eb6febc-9e22-47af-954c-da64c2e7736e",
   "metadata": {},
   "outputs": [],
   "source": [
    "torch.manual_seed(42)\n",
    "model_1 = LinearRegressionModelV2()\n",
    "model_1, model_1.state_dict()"
   ]
  },
  {
   "cell_type": "code",
   "execution_count": null,
   "id": "657db336-fe48-4c31-af4c-ba4110262de4",
   "metadata": {},
   "outputs": [],
   "source": [
    "next(model_1.parameters()).device"
   ]
  },
  {
   "cell_type": "code",
   "execution_count": null,
   "id": "4816dc1c-4100-430d-aefa-e7461a5b27b2",
   "metadata": {},
   "outputs": [],
   "source": []
  }
 ],
 "metadata": {
  "kernelspec": {
   "display_name": "Python 3.11 (torch)",
   "language": "python",
   "name": "pytorch"
  },
  "language_info": {
   "codemirror_mode": {
    "name": "ipython",
    "version": 3
   },
   "file_extension": ".py",
   "mimetype": "text/x-python",
   "name": "python",
   "nbconvert_exporter": "python",
   "pygments_lexer": "ipython3",
   "version": "3.9.23"
  }
 },
 "nbformat": 4,
 "nbformat_minor": 5
}
